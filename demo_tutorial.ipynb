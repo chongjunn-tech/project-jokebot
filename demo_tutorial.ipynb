{
 "cells": [
  {
   "cell_type": "markdown",
   "metadata": {},
   "source": [
    "# Tutorial to showcase different scripts"
   ]
  },
  {
   "cell_type": "markdown",
   "metadata": {},
   "source": [
    "## Randomize Jokes (Jokes database)"
   ]
  },
  {
   "cell_type": "code",
   "execution_count": 16,
   "metadata": {},
   "outputs": [],
   "source": [
    "from src.jokes import Jokes\n",
    "\n",
    "jokes=Jokes()"
   ]
  },
  {
   "cell_type": "code",
   "execution_count": 20,
   "metadata": {},
   "outputs": [
    {
     "name": "stdout",
     "output_type": "stream",
     "text": [
      "Jokes_count: 231657\n",
      "Provide random joke: \"YOU AIN'T SHIT WITHOUT ME! YOU HEAR ME? YOU'RE NOTHING!\" - syrup to pancakes.\n"
     ]
    }
   ],
   "source": [
    "print(f'Jokes_count: {jokes.jokes_count}')\n",
    "print(f'Provide random joke: {jokes.get_random_joke()}')"
   ]
  },
  {
   "cell_type": "markdown",
   "metadata": {},
   "source": [
    "## Storing user sentiment of jokes"
   ]
  },
  {
   "cell_type": "code",
   "execution_count": 23,
   "metadata": {},
   "outputs": [
    {
     "data": {
      "text/plain": [
       "[{'name': 'Chong Junn', 'positive': [], 'negative': [], 'unseen': []},\n",
       " {'name': 'Chong Junn', 'positive': [], 'negative': [], 'unseen': []},\n",
       " {'name': 'Chong Junn', 'positive': [], 'negative': [], 'unseen': []}]"
      ]
     },
     "execution_count": 23,
     "metadata": {},
     "output_type": "execute_result"
    }
   ],
   "source": [
    "from tinydb import TinyDB,Query\n",
    "TO_INSERT={'name':'Chong Junn','positive':[],'negative':[],'unseen':[]}\n",
    "db=TinyDB('users.json')\n",
    "User=Query()\n",
    "\n",
    "\n",
    "db.insert(TO_INSERT)\n",
    "db.search(User.name=='Chong Junn')"
   ]
  },
  {
   "cell_type": "code",
   "execution_count": null,
   "metadata": {},
   "outputs": [],
   "source": []
  }
 ],
 "metadata": {
  "interpreter": {
   "hash": "623ddadf3ae217e7b072f295895b86195094d5dafe253677b5f2fed5257671c0"
  },
  "kernelspec": {
   "display_name": "Python 3.9.12 ('jokebot')",
   "language": "python",
   "name": "python3"
  },
  "language_info": {
   "codemirror_mode": {
    "name": "ipython",
    "version": 3
   },
   "file_extension": ".py",
   "mimetype": "text/x-python",
   "name": "python",
   "nbconvert_exporter": "python",
   "pygments_lexer": "ipython3",
   "version": "3.9.12"
  },
  "orig_nbformat": 4
 },
 "nbformat": 4,
 "nbformat_minor": 2
}
